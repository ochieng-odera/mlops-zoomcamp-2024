{
 "cells": [
  {
   "cell_type": "markdown",
   "metadata": {},
   "source": [
    "## Homework 2 - Experiment Tracking"
   ]
  },
  {
   "cell_type": "markdown",
   "metadata": {},
   "source": [
    "### Q1. Install MLflow"
   ]
  },
  {
   "cell_type": "code",
   "execution_count": 2,
   "metadata": {},
   "outputs": [],
   "source": [
    "import mlflow"
   ]
  },
  {
   "cell_type": "code",
   "execution_count": 3,
   "metadata": {},
   "outputs": [
    {
     "name": "stdout",
     "output_type": "stream",
     "text": [
      "2.11.3\n"
     ]
    }
   ],
   "source": [
    "print(mlflow.__version__)"
   ]
  },
  {
   "cell_type": "markdown",
   "metadata": {},
   "source": [
    "### Q2. Download and preprocess the data"
   ]
  },
  {
   "cell_type": "code",
   "execution_count": 4,
   "metadata": {},
   "outputs": [
    {
     "name": "stdout",
     "output_type": "stream",
     "text": [
      "       4\n"
     ]
    }
   ],
   "source": [
    "!python preprocess_data.py --raw_data_path data --dest_path ./output\n",
    "!ls ./output | wc -l"
   ]
  },
  {
   "cell_type": "markdown",
   "metadata": {},
   "source": [
    "### Q3. Train a model with autolog"
   ]
  },
  {
   "cell_type": "code",
   "execution_count": 9,
   "metadata": {},
   "outputs": [
    {
     "name": "stdout",
     "output_type": "stream",
     "text": [
      "2024/05/27 18:01:38 INFO mlflow.store.db.utils: Creating initial MLflow database tables...\n",
      "2024/05/27 18:01:38 INFO mlflow.store.db.utils: Updating database tables\n",
      "INFO  [alembic.runtime.migration] Context impl SQLiteImpl.\n",
      "INFO  [alembic.runtime.migration] Will assume non-transactional DDL.\n",
      "INFO  [alembic.runtime.migration] Running upgrade  -> 451aebb31d03, add metric step\n",
      "INFO  [alembic.runtime.migration] Running upgrade 451aebb31d03 -> 90e64c465722, migrate user column to tags\n",
      "INFO  [alembic.runtime.migration] Running upgrade 90e64c465722 -> 181f10493468, allow nulls for metric values\n",
      "INFO  [alembic.runtime.migration] Running upgrade 181f10493468 -> df50e92ffc5e, Add Experiment Tags Table\n",
      "INFO  [alembic.runtime.migration] Running upgrade df50e92ffc5e -> 7ac759974ad8, Update run tags with larger limit\n",
      "INFO  [alembic.runtime.migration] Running upgrade 7ac759974ad8 -> 89d4b8295536, create latest metrics table\n",
      "INFO  [89d4b8295536_create_latest_metrics_table_py] Migration complete!\n",
      "INFO  [alembic.runtime.migration] Running upgrade 89d4b8295536 -> 2b4d017a5e9b, add model registry tables to db\n",
      "INFO  [2b4d017a5e9b_add_model_registry_tables_to_db_py] Adding registered_models and model_versions tables to database.\n",
      "INFO  [2b4d017a5e9b_add_model_registry_tables_to_db_py] Migration complete!\n",
      "INFO  [alembic.runtime.migration] Running upgrade 2b4d017a5e9b -> cfd24bdc0731, Update run status constraint with killed\n",
      "INFO  [alembic.runtime.migration] Running upgrade cfd24bdc0731 -> 0a8213491aaa, drop_duplicate_killed_constraint\n",
      "INFO  [alembic.runtime.migration] Running upgrade 0a8213491aaa -> 728d730b5ebd, add registered model tags table\n",
      "INFO  [alembic.runtime.migration] Running upgrade 728d730b5ebd -> 27a6a02d2cf1, add model version tags table\n",
      "INFO  [alembic.runtime.migration] Running upgrade 27a6a02d2cf1 -> 84291f40a231, add run_link to model_version\n",
      "INFO  [alembic.runtime.migration] Running upgrade 84291f40a231 -> a8c4a736bde6, allow nulls for run_id\n",
      "INFO  [alembic.runtime.migration] Running upgrade a8c4a736bde6 -> 39d1c3be5f05, add_is_nan_constraint_for_metrics_tables_if_necessary\n",
      "INFO  [alembic.runtime.migration] Running upgrade 39d1c3be5f05 -> c48cb773bb87, reset_default_value_for_is_nan_in_metrics_table_for_mysql\n",
      "INFO  [alembic.runtime.migration] Running upgrade c48cb773bb87 -> bd07f7e963c5, create index on run_uuid\n",
      "INFO  [alembic.runtime.migration] Running upgrade bd07f7e963c5 -> 0c779009ac13, add deleted_time field to runs table\n",
      "INFO  [alembic.runtime.migration] Running upgrade 0c779009ac13 -> cc1f77228345, change param value length to 500\n",
      "INFO  [alembic.runtime.migration] Running upgrade cc1f77228345 -> 97727af70f4d, Add creation_time and last_update_time to experiments table\n",
      "INFO  [alembic.runtime.migration] Running upgrade 97727af70f4d -> 3500859a5d39, Add Model Aliases table\n",
      "INFO  [alembic.runtime.migration] Running upgrade 3500859a5d39 -> 7f2a7d5fae7d, add datasets inputs input_tags tables\n",
      "INFO  [alembic.runtime.migration] Running upgrade 7f2a7d5fae7d -> 2d6e25af4d3e, increase max param val length from 500 to 8000\n",
      "INFO  [alembic.runtime.migration] Running upgrade 2d6e25af4d3e -> acf3f17fdcc7, add storage location field to model versions\n",
      "INFO  [alembic.runtime.migration] Context impl SQLiteImpl.\n",
      "INFO  [alembic.runtime.migration] Will assume non-transactional DDL.\n",
      "2024/05/27 18:01:38 INFO mlflow.tracking.fluent: Experiment with name 'homework-experiment-2' does not exist. Creating a new experiment.\n",
      "2024/05/27 18:01:39 INFO mlflow.tracking.fluent: Autologging successfully enabled for sklearn.\n",
      "2024/05/27 18:01:39 WARNING mlflow.sklearn: Failed to log training dataset information to MLflow Tracking. Reason: 'numpy.ndarray' object has no attribute 'toarray'\n",
      "/Users/billehsarkozy/anaconda3/envs/mlops/lib/python3.12/site-packages/sklearn/metrics/_regression.py:483: FutureWarning: 'squared' is deprecated in version 1.4 and will be removed in 1.6. To calculate the root mean squared error, use the function'root_mean_squared_error'.\n",
      "  warnings.warn(\n"
     ]
    }
   ],
   "source": [
    "!python train.py --data_path ./output"
   ]
  },
  {
   "cell_type": "markdown",
   "metadata": {},
   "source": [
    "### Q4. Launch the tracking server locally"
   ]
  },
  {
   "cell_type": "code",
   "execution_count": 6,
   "metadata": {},
   "outputs": [],
   "source": [
    "#!mlflow ui --backend-store-uri sqlite:///mlflow.db --default-artifact-root ./artifacts"
   ]
  },
  {
   "cell_type": "markdown",
   "metadata": {},
   "source": [
    "### Q5. Tune model hyperparameters"
   ]
  },
  {
   "cell_type": "code",
   "execution_count": 14,
   "metadata": {},
   "outputs": [
    {
     "name": "stdout",
     "output_type": "stream",
     "text": [
      "  0%|                                    | 0/15 [00:00<?, ?trial/s, best loss=?]/Users/billehsarkozy/anaconda3/envs/mlops/lib/python3.12/site-packages/sklearn/metrics/_regression.py:483: FutureWarning: 'squared' is deprecated in version 1.4 and will be removed in 1.6. To calculate the root mean squared error, use the function'root_mean_squared_error'.\n",
      "  warnings.warn(\n",
      "\n",
      "  7%|▋          | 1/15 [00:06<01:31,  6.57s/trial, best loss: 5.370086069268862]job exception: INVALID_PARAMETER_VALUE: Changing param values is not allowed. Params were already logged='[{'key': 'max_depth', 'old_value': '13', 'new_value': '2'}, {'key': 'n_estimators', 'old_value': '43', 'new_value': '22'}]' for run ID='2140468fb66f45b0a7d415844ea7a365'.\n",
      "\n",
      "  7%|▋          | 1/15 [00:06<01:32,  6.58s/trial, best loss: 5.370086069268862]\n",
      "Traceback (most recent call last):\n",
      "  File \"/Users/billehsarkozy/Documents/02-devProjects/02-myProjects/04-mlops_zoomcamp/mlops-zoomcamp-2024/02-experiment_tracking/hpo.py\", line 69, in <module>\n",
      "    run_optimization()\n",
      "  File \"/Users/billehsarkozy/anaconda3/envs/mlops/lib/python3.12/site-packages/click/core.py\", line 1157, in __call__\n",
      "    return self.main(*args, **kwargs)\n",
      "           ^^^^^^^^^^^^^^^^^^^^^^^^^^\n",
      "  File \"/Users/billehsarkozy/anaconda3/envs/mlops/lib/python3.12/site-packages/click/core.py\", line 1078, in main\n",
      "    rv = self.invoke(ctx)\n",
      "         ^^^^^^^^^^^^^^^^\n",
      "  File \"/Users/billehsarkozy/anaconda3/envs/mlops/lib/python3.12/site-packages/click/core.py\", line 1434, in invoke\n",
      "    return ctx.invoke(self.callback, **ctx.params)\n",
      "           ^^^^^^^^^^^^^^^^^^^^^^^^^^^^^^^^^^^^^^^\n",
      "  File \"/Users/billehsarkozy/anaconda3/envs/mlops/lib/python3.12/site-packages/click/core.py\", line 783, in invoke\n",
      "    return __callback(*args, **kwargs)\n",
      "           ^^^^^^^^^^^^^^^^^^^^^^^^^^^\n",
      "  File \"/Users/billehsarkozy/Documents/02-devProjects/02-myProjects/04-mlops_zoomcamp/mlops-zoomcamp-2024/02-experiment_tracking/hpo.py\", line 58, in run_optimization\n",
      "    fmin(\n",
      "  File \"/Users/billehsarkozy/anaconda3/envs/mlops/lib/python3.12/site-packages/hyperopt/fmin.py\", line 536, in fmin\n",
      "    return trials.fmin(\n",
      "           ^^^^^^^^^^^^\n",
      "  File \"/Users/billehsarkozy/anaconda3/envs/mlops/lib/python3.12/site-packages/hyperopt/base.py\", line 670, in fmin\n",
      "    return fmin(\n",
      "           ^^^^^\n",
      "  File \"/Users/billehsarkozy/anaconda3/envs/mlops/lib/python3.12/site-packages/hyperopt/fmin.py\", line 582, in fmin\n",
      "    rval.exhaust()\n",
      "  File \"/Users/billehsarkozy/anaconda3/envs/mlops/lib/python3.12/site-packages/hyperopt/fmin.py\", line 360, in exhaust\n",
      "    self.run(self.max_evals - n_done, block_until_done=self.asynchronous)\n",
      "  File \"/Users/billehsarkozy/anaconda3/envs/mlops/lib/python3.12/site-packages/hyperopt/fmin.py\", line 296, in run\n",
      "    self.serial_evaluate()\n",
      "  File \"/Users/billehsarkozy/anaconda3/envs/mlops/lib/python3.12/site-packages/hyperopt/fmin.py\", line 175, in serial_evaluate\n",
      "    result = self.domain.evaluate(spec, ctrl)\n",
      "             ^^^^^^^^^^^^^^^^^^^^^^^^^^^^^^^^\n",
      "  File \"/Users/billehsarkozy/anaconda3/envs/mlops/lib/python3.12/site-packages/hyperopt/base.py\", line 891, in evaluate\n",
      "    rval = self.fn(pyll_rval)\n",
      "           ^^^^^^^^^^^^^^^^^^\n",
      "  File \"/Users/billehsarkozy/Documents/02-devProjects/02-myProjects/04-mlops_zoomcamp/mlops-zoomcamp-2024/02-experiment_tracking/hpo.py\", line 39, in objective\n",
      "    mlflow.log_params(params)\n",
      "  File \"/Users/billehsarkozy/anaconda3/envs/mlops/lib/python3.12/site-packages/mlflow/tracking/fluent.py\", line 910, in log_params\n",
      "    return MlflowClient().log_batch(\n",
      "           ^^^^^^^^^^^^^^^^^^^^^^^^^\n",
      "  File \"/Users/billehsarkozy/anaconda3/envs/mlops/lib/python3.12/site-packages/mlflow/tracking/client.py\", line 1129, in log_batch\n",
      "    return self._tracking_client.log_batch(\n",
      "           ^^^^^^^^^^^^^^^^^^^^^^^^^^^^^^^^\n",
      "  File \"/Users/billehsarkozy/anaconda3/envs/mlops/lib/python3.12/site-packages/mlflow/tracking/_tracking_service/client.py\", line 471, in log_batch\n",
      "    self.store.log_batch(\n",
      "  File \"/Users/billehsarkozy/anaconda3/envs/mlops/lib/python3.12/site-packages/mlflow/store/tracking/rest_store.py\", line 340, in log_batch\n",
      "    self._call_endpoint(LogBatch, req_body)\n",
      "  File \"/Users/billehsarkozy/anaconda3/envs/mlops/lib/python3.12/site-packages/mlflow/store/tracking/rest_store.py\", line 60, in _call_endpoint\n",
      "    return call_endpoint(self.get_host_creds(), endpoint, method, json_body, response_proto)\n",
      "           ^^^^^^^^^^^^^^^^^^^^^^^^^^^^^^^^^^^^^^^^^^^^^^^^^^^^^^^^^^^^^^^^^^^^^^^^^^^^^^^^^\n",
      "  File \"/Users/billehsarkozy/anaconda3/envs/mlops/lib/python3.12/site-packages/mlflow/utils/rest_utils.py\", line 220, in call_endpoint\n",
      "    response = verify_rest_response(response, endpoint)\n",
      "               ^^^^^^^^^^^^^^^^^^^^^^^^^^^^^^^^^^^^^^^^\n",
      "  File \"/Users/billehsarkozy/anaconda3/envs/mlops/lib/python3.12/site-packages/mlflow/utils/rest_utils.py\", line 152, in verify_rest_response\n",
      "    raise RestException(json.loads(response.text))\n",
      "mlflow.exceptions.RestException: INVALID_PARAMETER_VALUE: Changing param values is not allowed. Params were already logged='[{'key': 'max_depth', 'old_value': '13', 'new_value': '2'}, {'key': 'n_estimators', 'old_value': '43', 'new_value': '22'}]' for run ID='2140468fb66f45b0a7d415844ea7a365'.\n"
     ]
    }
   ],
   "source": [
    "!python hpo.py"
   ]
  },
  {
   "cell_type": "markdown",
   "metadata": {},
   "source": [
    "### Q6. Promote the best model to the model registry"
   ]
  },
  {
   "cell_type": "code",
   "execution_count": 15,
   "metadata": {},
   "outputs": [
    {
     "name": "stdout",
     "output_type": "stream",
     "text": [
      "2024/05/27 18:13:09 WARNING mlflow.sklearn: Failed to log training dataset information to MLflow Tracking. Reason: 'numpy.ndarray' object has no attribute 'toarray'\n",
      "/Users/billehsarkozy/anaconda3/envs/mlops/lib/python3.12/site-packages/sklearn/metrics/_regression.py:483: FutureWarning: 'squared' is deprecated in version 1.4 and will be removed in 1.6. To calculate the root mean squared error, use the function'root_mean_squared_error'.\n",
      "  warnings.warn(\n",
      "/Users/billehsarkozy/anaconda3/envs/mlops/lib/python3.12/site-packages/sklearn/metrics/_regression.py:483: FutureWarning: 'squared' is deprecated in version 1.4 and will be removed in 1.6. To calculate the root mean squared error, use the function'root_mean_squared_error'.\n",
      "  warnings.warn(\n",
      "2024/05/27 18:13:23 WARNING mlflow.sklearn: Failed to log training dataset information to MLflow Tracking. Reason: 'numpy.ndarray' object has no attribute 'toarray'\n",
      "/Users/billehsarkozy/anaconda3/envs/mlops/lib/python3.12/site-packages/sklearn/metrics/_regression.py:483: FutureWarning: 'squared' is deprecated in version 1.4 and will be removed in 1.6. To calculate the root mean squared error, use the function'root_mean_squared_error'.\n",
      "  warnings.warn(\n",
      "/Users/billehsarkozy/anaconda3/envs/mlops/lib/python3.12/site-packages/sklearn/metrics/_regression.py:483: FutureWarning: 'squared' is deprecated in version 1.4 and will be removed in 1.6. To calculate the root mean squared error, use the function'root_mean_squared_error'.\n",
      "  warnings.warn(\n",
      "Successfully registered model 'nyc-taxi-randomforest'.\n",
      "2024/05/27 18:13:38 INFO mlflow.store.model_registry.abstract_store: Waiting up to 300 seconds for model version to finish creation. Model name: nyc-taxi-randomforest, version 1\n",
      "Created version '1' of model 'nyc-taxi-randomforest'.\n"
     ]
    }
   ],
   "source": [
    "!python register_model.py"
   ]
  },
  {
   "cell_type": "markdown",
   "metadata": {},
   "source": [
    "---"
   ]
  }
 ],
 "metadata": {
  "kernelspec": {
   "display_name": "mlops",
   "language": "python",
   "name": "python3"
  },
  "language_info": {
   "codemirror_mode": {
    "name": "ipython",
    "version": 3
   },
   "file_extension": ".py",
   "mimetype": "text/x-python",
   "name": "python",
   "nbconvert_exporter": "python",
   "pygments_lexer": "ipython3",
   "version": "3.12.2"
  }
 },
 "nbformat": 4,
 "nbformat_minor": 2
}
